{
 "cells": [
  {
   "cell_type": "code",
   "execution_count": 1,
   "id": "b783ac6c",
   "metadata": {},
   "outputs": [
    {
     "ename": "ModuleNotFoundError",
     "evalue": "No module named 'pandas'",
     "output_type": "error",
     "traceback": [
      "\u001b[31m---------------------------------------------------------------------------\u001b[39m",
      "\u001b[31mModuleNotFoundError\u001b[39m                       Traceback (most recent call last)",
      "\u001b[36mCell\u001b[39m\u001b[36m \u001b[39m\u001b[32mIn[1]\u001b[39m\u001b[32m, line 1\u001b[39m\n\u001b[32m----> \u001b[39m\u001b[32m1\u001b[39m \u001b[38;5;28;01mimport\u001b[39;00m\u001b[38;5;250m \u001b[39m\u001b[34;01mpandas\u001b[39;00m\u001b[38;5;250m \u001b[39m\u001b[38;5;28;01mas\u001b[39;00m\u001b[38;5;250m \u001b[39m\u001b[34;01mpd\u001b[39;00m\n\u001b[32m      2\u001b[39m \u001b[38;5;28;01mimport\u001b[39;00m\u001b[38;5;250m \u001b[39m\u001b[34;01mnumpy\u001b[39;00m\u001b[38;5;250m \u001b[39m\u001b[38;5;28;01mas\u001b[39;00m\u001b[38;5;250m \u001b[39m\u001b[34;01mnp\u001b[39;00m\n\u001b[32m      3\u001b[39m \u001b[38;5;28;01mimport\u001b[39;00m\u001b[38;5;250m \u001b[39m\u001b[34;01mmatplotlib\u001b[39;00m\u001b[34;01m.\u001b[39;00m\u001b[34;01mpyplot\u001b[39;00m\u001b[38;5;250m \u001b[39m\u001b[38;5;28;01mas\u001b[39;00m\u001b[38;5;250m \u001b[39m\u001b[34;01mplt\u001b[39;00m\n",
      "\u001b[31mModuleNotFoundError\u001b[39m: No module named 'pandas'"
     ]
    }
   ],
   "source": [
    "import pandas as pd\n",
    "import numpy as np\n",
    "import matplotlib.pyplot as plt\n",
    "import seaborn as sns\n",
    "import os\n",
    "import sys"
   ]
  },
  {
   "cell_type": "code",
   "execution_count": null,
   "id": "a9d38098",
   "metadata": {},
   "outputs": [],
   "source": [
    "module_path = os.path.abspath(os.path.join('..'))\n",
    "if module_path not in sys.path:\n",
    "    sys.path.append(module_path)"
   ]
  },
  {
   "cell_type": "code",
   "execution_count": null,
   "id": "d58eb64b",
   "metadata": {},
   "outputs": [],
   "source": [
    "from scraper.team_stats_scraper import get_team_last_matches, scrape_team_match_stats\n",
    "from preprocessing.team_stats_preprocessing import preprocess_team_stats, get_team_form, aggregate_team_form, compile_team_recent_form\n"
   ]
  },
  {
   "cell_type": "code",
   "execution_count": null,
   "id": "41d38806",
   "metadata": {},
   "outputs": [],
   "source": [
    "plt.style.use('ggplot')\n",
    "sns.set(style=\"whitegrid\")"
   ]
  },
  {
   "cell_type": "code",
   "execution_count": null,
   "id": "369716ec",
   "metadata": {},
   "outputs": [],
   "source": [
    "teams = [\n",
    "    \"Manchester City\",\n",
    "    \"Arsenal\",\n",
    "    \"Liverpool\"\n",
    "]\n",
    "num_matches = 7\n",
    "all_match_data = []"
   ]
  },
  {
   "cell_type": "code",
   "execution_count": null,
   "id": "bc60adb3",
   "metadata": {},
   "outputs": [],
   "source": [
    "for team in teams:\n",
    "    print(f\"Scraping data for {team}...\")\n",
    "    team_matches = get_team_last_matches(team, num_matches)\n",
    "    if team_matches:\n",
    "        all_match_data.extend(team_matches)\n",
    "        print(f\"  Found {len(team_matches)} matches\")\n",
    "    else:\n",
    "        print(f\"  No matches found\")\n",
    "\n",
    "match_df = pd.DataFrame(all_match_data)\n",
    "print(f\"\\nCollected data for {len(match_df)} matches in total\")"
   ]
  },
  {
   "cell_type": "code",
   "execution_count": null,
   "id": "1a84f601",
   "metadata": {},
   "outputs": [],
   "source": [
    "print(\"Raw data columns:\")\n",
    "print(match_df.columns.tolist())\n",
    "match_df.head()"
   ]
  },
  {
   "cell_type": "code",
   "execution_count": null,
   "id": "82aae3e9",
   "metadata": {},
   "outputs": [],
   "source": [
    "# Preprocess the data\n",
    "processed_df = preprocess_team_stats(match_df)\n",
    "\n",
    "# Check the processed data\n",
    "print(\"Processed data columns:\")\n",
    "print(processed_df.columns.tolist())\n",
    "processed_df.head()\n"
   ]
  },
  {
   "cell_type": "code",
   "execution_count": null,
   "id": "98e9b0c9",
   "metadata": {},
   "outputs": [],
   "source": [
    "# Compile team form data\n",
    "team_form_df = compile_team_recent_form(processed_df, teams)\n",
    "team_form_df\n"
   ]
  },
  {
   "cell_type": "code",
   "execution_count": null,
   "id": "948c0524",
   "metadata": {},
   "outputs": [],
   "source": [
    "# Set up the figure\n",
    "plt.figure(figsize=(14, 8))\n",
    "\n",
    "# Plot goals for and against\n",
    "plt.subplot(2, 2, 1)\n",
    "team_form_df[['team', 'avg_gf', 'avg_ga']].set_index('team').plot(kind='bar', ax=plt.gca())\n",
    "plt.title('Average Goals For/Against')\n",
    "plt.ylabel('Goals per Match')\n",
    "plt.xticks(rotation=45)\n",
    "\n",
    "# Plot shots and shots on target\n",
    "plt.subplot(2, 2, 2)\n",
    "team_form_df[['team', 'avg_sh', 'avg_sot']].set_index('team').plot(kind='bar', ax=plt.gca())\n",
    "plt.title('Average Shots and Shots on Target')\n",
    "plt.ylabel('Shots per Match')\n",
    "plt.xticks(rotation=45)\n",
    "\n",
    "# Points bar chart\n",
    "plt.subplot(2, 2, 3)\n",
    "team_form_df.sort_values('points', ascending=False).plot(\n",
    "    x='team', y='points', kind='bar', ax=plt.gca(), color='green')\n",
    "plt.title('Total Points (Last 7 Matches)')\n",
    "plt.ylabel('Points')\n",
    "plt.xticks(rotation=45)\n",
    "\n",
    "# Win/Draw/Loss Stacked Bar Chart\n",
    "plt.subplot(2, 2, 4)\n",
    "team_form_df[['team', 'wins', 'draws', 'losses']].set_index('team').plot(\n",
    "    kind='bar', stacked=True, ax=plt.gca(),\n",
    "    color=['green', 'gray', 'red'])\n",
    "plt.title('Match Results')\n",
    "plt.ylabel('Number of Matches')\n",
    "plt.xticks(rotation=45)\n",
    "plt.legend(loc='upper right')\n",
    "\n",
    "plt.tight_layout()\n",
    "plt.show()\n"
   ]
  },
  {
   "cell_type": "code",
   "execution_count": null,
   "id": "cb8c0325",
   "metadata": {},
   "outputs": [],
   "source": [
    "# Define stats for radar chart\n",
    "stats = ['avg_gf', 'avg_ga', 'avg_sh', 'avg_sot', 'avg_dist',\n",
    "         'shot_accuracy', 'points']\n",
    "\n",
    "# Normalize data for radar chart\n",
    "stats_df = team_form_df[['team'] + stats].copy()\n",
    "\n",
    "# Reverse avg_ga (lower is better)\n",
    "stats_df['avg_ga'] = stats_df['avg_ga'].max() - stats_df['avg_ga']\n",
    "\n",
    "# Normalize each stat from 0 to 1\n",
    "for stat in stats:\n",
    "    if stats_df[stat].max() > 0:  # Avoid division by zero\n",
    "        stats_df[stat] = stats_df[stat] / stats_df[stat].max()\n",
    "\n",
    "# Set up the radar chart\n",
    "labels = ['Goals For', 'Goals Against*', 'Shots', 'Shots on Target',\n",
    "          'Distance Covered', 'Shot Accuracy', 'Points']\n",
    "angles = np.linspace(0, 2*np.pi, len(labels), endpoint=False).tolist()\n",
    "angles += angles[:1]  # Close the loop\n",
    "\n",
    "fig, ax = plt.subplots(figsize=(10, 10), subplot_kw=dict(polar=True))\n",
    "\n",
    "# Add labels\n",
    "plt.xticks(angles[:-1], labels, size=12)\n",
    "\n",
    "# Add grid\n",
    "ax.set_rlabel_position(0)\n",
    "plt.yticks([0.25, 0.5, 0.75], [\"0.25\", \"0.5\", \"0.75\"], color=\"grey\", size=10)\n",
    "plt.ylim(0, 1)\n",
    "\n",
    "# Plot each team\n",
    "for i, team in enumerate(teams):\n",
    "    team_data = stats_df[stats_df['team'] == team].iloc[0][stats].values.tolist()\n",
    "    team_data += team_data[:1]  # Close the loop\n",
    "    \n",
    "    ax.plot(angles, team_data, linewidth=2, linestyle='solid', label=team)\n",
    "    ax.fill(angles, team_data, alpha=0.1)\n",
    "\n",
    "plt.legend(loc='upper right', bbox_to_anchor=(0.1, 0.1))\n",
    "plt.title('Team Performance Comparison (Normalized)', size=20, y=1.08)\n",
    "plt.figtext(0.5, 0.01, '* Goals Against is reversed (higher is better)', ha='center')\n",
    "\n",
    "plt.show()\n"
   ]
  },
  {
   "cell_type": "code",
   "execution_count": null,
   "id": "4d1dc6c0",
   "metadata": {},
   "outputs": [],
   "source": [
    "# Create output directory if it doesn't exist\n",
    "os.makedirs('../outputs', exist_ok=True)\n",
    "\n",
    "# Save raw match data\n",
    "match_df.to_csv('../outputs/team_matches_raw.csv', index=False)\n",
    "print(f\"Saved raw match data with {len(match_df)} records to '../outputs/team_matches_raw.csv'\")\n",
    "\n",
    "# Save processed match data\n",
    "processed_df.to_csv('../outputs/team_matches_processed.csv', index=False)\n",
    "print(\"Saved processed match data to '../outputs/team_matches_processed.csv'\")\n",
    "\n",
    "# Save team form analysis\n",
    "team_form_df.to_csv('../outputs/team_form_analysis.csv', index=False)\n",
    "print(\"Saved team form analysis to '../outputs/team_form_analysis.csv'\")\n"
   ]
  }
 ],
 "metadata": {
  "kernelspec": {
   "display_name": "venv",
   "language": "python",
   "name": "python3"
  },
  "language_info": {
   "codemirror_mode": {
    "name": "ipython",
    "version": 3
   },
   "file_extension": ".py",
   "mimetype": "text/x-python",
   "name": "python",
   "nbconvert_exporter": "python",
   "pygments_lexer": "ipython3",
   "version": "3.13.3"
  }
 },
 "nbformat": 4,
 "nbformat_minor": 5
}
